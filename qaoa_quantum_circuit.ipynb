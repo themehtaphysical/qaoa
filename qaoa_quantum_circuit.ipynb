{
 "cells": [
  {
   "cell_type": "markdown",
   "metadata": {},
   "source": [
    "# QAOA in Qiskit"
   ]
  },
  {
   "cell_type": "code",
   "execution_count": 75,
   "metadata": {},
   "outputs": [],
   "source": [
    "import numpy as np\n",
    "from qiskit import *"
   ]
  },
  {
   "cell_type": "code",
   "execution_count": 76,
   "metadata": {},
   "outputs": [],
   "source": [
    "def quantum_circuit(graph:dict, beta:list, gamma:list):\n",
    "\n",
    "\n",
    "\n",
    "    # choose values of A & B here\n",
    "\n",
    "    '''\n",
    "    initialize the parameters here\n",
    "    '''\n",
    "    A = 1.5\n",
    "    B = 1\n",
    "    n = len(graph.keys())\n",
    "        \n",
    "    qr = QuantumRegister(n)\n",
    "    cr = ClassicalRegister(n)\n",
    "    qc = QuantumCircuit(qr,cr)\n",
    "\n",
    "    '''\n",
    "    part 1\n",
    "    '''\n",
    "    # apply the intial hadamard\n",
    "    # len(n) doesn't work, n is already an int\n",
    "    for i in range(n):\n",
    "        qc.h(i)\n",
    "\n",
    "    '''\n",
    "    part 2\n",
    "    '''\n",
    "\n",
    "    for _node in graph.keys():\n",
    "\n",
    "        \n",
    "        _dimensionality = len(graph[_node])\n",
    "        d = _dimensionality\n",
    "        \n",
    "        i = int(_node)\n",
    "\n",
    "\n",
    "        for _connected_node in graph[_node]:\n",
    "            j = int(_connected_node)\n",
    "\n",
    "            # apply the separator\n",
    "            if int(j) > int(i):\n",
    "                qc.cx(int(i),int(j))\n",
    "                # i think the str() is supposed to be int(), right?\n",
    "                qc.rz(2*gamma[int(i)]*A/4,int(j))\n",
    "                qc.cx(int(i),int(j))\n",
    "\n",
    "        # same thing, str() is supposed to int(), right?\n",
    "        qc.rz(2*gamma[int(i)]*((B/2) - (A*d/4)),int(i))\n",
    "\n",
    "        # apply the mixer\n",
    "        qc.rx(2*beta[int(i)], i)\n",
    "\n",
    "    ''' \n",
    "    part 3\n",
    "    '''\n",
    "    # measure all qubits\n",
    "    qc.measure(qr,cr)\n",
    "\n",
    "    return cr"
   ]
  },
  {
   "cell_type": "code",
   "execution_count": 77,
   "metadata": {},
   "outputs": [],
   "source": [
    "class graph:\n",
    "    def __init__(self, _graph=None):\n",
    "        if _graph is None:\n",
    "            _graph = {}\n",
    "        self._graph = _graph\n",
    "      \n",
    "    def getVertices(self):\n",
    "        return list(self._graph.keys())\n",
    "    \n",
    "    def printVertices(self):\n",
    "        print(self.getVertices())\n",
    "    \n",
    "    def findEdges(self):\n",
    "        edgename = []\n",
    "        for vrtx in self._graph:\n",
    "            for nxtvrtx in self._graph[vrtx]:\n",
    "                if {nxtvrtx, vrtx} not in edgename:\n",
    "                    edgename.append({vrtx, nxtvrtx})\n",
    "        return edgename\n",
    "    \n",
    "    def printEdges(self):\n",
    "        print(self.findEdges())\n",
    "        \n",
    "    def getGraph(self):\n",
    "        return self._graph"
   ]
  },
  {
   "cell_type": "code",
   "execution_count": 78,
   "metadata": {},
   "outputs": [],
   "source": [
    "graph_elements = { \n",
    "   0 : [1, 2],\n",
    "   1 : [0, 3],\n",
    "   2 : [0, 3],\n",
    "   3 : [4],\n",
    "   4 : [3]\n",
    "}\n",
    "g = graph(graph_elements)"
   ]
  },
  {
   "cell_type": "code",
   "execution_count": 79,
   "metadata": {},
   "outputs": [
    {
     "name": "stdout",
     "output_type": "stream",
     "text": [
      "[{0, 1}, {0, 2}, {1, 3}, {2, 3}, {3, 4}]\n",
      "[0, 1, 2, 3, 4]\n"
     ]
    }
   ],
   "source": [
    "g.printEdges()\n",
    "g.printVertices()"
   ]
  },
  {
   "cell_type": "code",
   "execution_count": 80,
   "metadata": {},
   "outputs": [
    {
     "name": "stdout",
     "output_type": "stream",
     "text": [
      "[1, 1, 1, 1, 1]\n",
      "[1, 1, 1, 1, 1]\n"
     ]
    }
   ],
   "source": [
    "vertCount = len(g.getGraph())\n",
    "beta = [1 for i in range(vertCount)]\n",
    "gamma = [1 for i in range(vertCount)]\n",
    "print(beta)\n",
    "print(gamma)"
   ]
  },
  {
   "cell_type": "code",
   "execution_count": 81,
   "metadata": {},
   "outputs": [
    {
     "ename": "TypeError",
     "evalue": "rx() missing 1 required positional argument: 'qubit'",
     "output_type": "error",
     "traceback": [
      "\u001b[1;31m---------------------------------------------------------------------------\u001b[0m",
      "\u001b[1;31mTypeError\u001b[0m                                 Traceback (most recent call last)",
      "\u001b[1;32m<ipython-input-81-426464c6dedc>\u001b[0m in \u001b[0;36m<module>\u001b[1;34m\u001b[0m\n\u001b[1;32m----> 1\u001b[1;33m \u001b[0mcirc\u001b[0m \u001b[1;33m=\u001b[0m \u001b[0mquantum_circuit\u001b[0m\u001b[1;33m(\u001b[0m\u001b[0mg\u001b[0m\u001b[1;33m.\u001b[0m\u001b[0mgetGraph\u001b[0m\u001b[1;33m(\u001b[0m\u001b[1;33m)\u001b[0m\u001b[1;33m,\u001b[0m \u001b[0mbeta\u001b[0m\u001b[1;33m,\u001b[0m \u001b[0mgamma\u001b[0m\u001b[1;33m)\u001b[0m\u001b[1;33m\u001b[0m\u001b[1;33m\u001b[0m\u001b[0m\n\u001b[0m",
      "\u001b[1;32m<ipython-input-76-17102e31aeb7>\u001b[0m in \u001b[0;36mquantum_circuit\u001b[1;34m(graph, beta, gamma)\u001b[0m\n\u001b[0;32m     51\u001b[0m \u001b[1;33m\u001b[0m\u001b[0m\n\u001b[0;32m     52\u001b[0m         \u001b[1;31m# apply the mixer\u001b[0m\u001b[1;33m\u001b[0m\u001b[1;33m\u001b[0m\u001b[1;33m\u001b[0m\u001b[0m\n\u001b[1;32m---> 53\u001b[1;33m         \u001b[0mqc\u001b[0m\u001b[1;33m.\u001b[0m\u001b[0mrx\u001b[0m\u001b[1;33m(\u001b[0m\u001b[1;36m2\u001b[0m\u001b[1;33m*\u001b[0m\u001b[0mbeta\u001b[0m\u001b[1;33m[\u001b[0m\u001b[0mint\u001b[0m\u001b[1;33m(\u001b[0m\u001b[0mi\u001b[0m\u001b[1;33m)\u001b[0m\u001b[1;33m]\u001b[0m\u001b[1;33m)\u001b[0m\u001b[1;33m\u001b[0m\u001b[1;33m\u001b[0m\u001b[0m\n\u001b[0m\u001b[0;32m     54\u001b[0m \u001b[1;33m\u001b[0m\u001b[0m\n\u001b[0;32m     55\u001b[0m     ''' \n",
      "\u001b[1;31mTypeError\u001b[0m: rx() missing 1 required positional argument: 'qubit'"
     ]
    }
   ],
   "source": [
    "circ = quantum_circuit(g.getGraph(), beta, gamma)"
   ]
  }
 ],
 "metadata": {
  "kernelspec": {
   "display_name": "Python 3.8.3 ('base')",
   "language": "python",
   "name": "python3"
  },
  "language_info": {
   "codemirror_mode": {
    "name": "ipython",
    "version": 3
   },
   "file_extension": ".py",
   "mimetype": "text/x-python",
   "name": "python",
   "nbconvert_exporter": "python",
   "pygments_lexer": "ipython3",
   "version": "3.8.3"
  },
  "orig_nbformat": 4,
  "vscode": {
   "interpreter": {
    "hash": "1870f1194fb5b3d43b6d32e845741389586dbe9c4e1e45e17e0f6602cfe22778"
   }
  }
 },
 "nbformat": 4,
 "nbformat_minor": 2
}
