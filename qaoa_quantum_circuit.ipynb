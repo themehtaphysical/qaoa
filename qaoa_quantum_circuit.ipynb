{
 "cells": [
  {
   "cell_type": "markdown",
   "metadata": {},
   "source": [
    "# QAOA in Qiskit"
   ]
  },
  {
   "cell_type": "code",
<<<<<<< HEAD
   "execution_count": 14,
=======
   "execution_count": 75,
>>>>>>> 944aa683a01d7e8a22a979bcfc10c1f3057c3c16
   "metadata": {},
   "outputs": [],
   "source": [
    "import numpy as np\n",
    "from qiskit import *\n",
    "\n",
    "import matplotlib.pyplot as plt\n",
    "\n",
    "import collections"
   ]
  },
  {
   "cell_type": "code",
   "execution_count": 45,
   "metadata": {},
   "outputs": [],
   "source": [
    "def quantum_circuit(graph:dict, beta:list, gamma:list):\n",
    "\n",
    "\n",
    "\n",
    "    # choose values of A & B here\n",
    "\n",
    "    '''\n",
    "    initialize the parameters here\n",
    "    '''\n",
    "    A = 4\n",
    "    B = 1\n",
    "    n = len(graph.keys())\n",
    "    # total number of shots to run on simulator\n",
    "    shots = 1024\n",
    "        \n",
    "    qr = QuantumRegister(n)\n",
    "    cr = ClassicalRegister(n)\n",
    "    qc = QuantumCircuit(qr,cr)\n",
    "\n",
    "    '''\n",
    "    part 1\n",
    "    '''\n",
    "    # apply the intial hadamard\n",
<<<<<<< HEAD
=======
    "    # len(n) doesn't work, n is already an int\n",
>>>>>>> 944aa683a01d7e8a22a979bcfc10c1f3057c3c16
    "    for i in range(n):\n",
    "        qc.h(i)\n",
    "\n",
    "    qc.barrier()\n",
    "\n",
    "    '''\n",
    "    part 2\n",
    "    '''\n",
    "\n",
    "    for _node in graph.keys():\n",
    "\n",
    "        \n",
    "        _dimensionality = len(graph[_node])\n",
    "        d = _dimensionality\n",
    "        \n",
    "        i = int(_node)\n",
    "\n",
    "\n",
    "        for _connected_node in graph[_node]:\n",
    "            j = int(_connected_node)\n",
    "\n",
    "            # apply the separator\n",
<<<<<<< HEAD
    "            if j > i:\n",
    "                qc.cx(i,j)\n",
    "                qc.rz(2*A/4*gamma[i],j)\n",
    "                qc.cx(i,j)\n",
    "\n",
    "        qc.rz(2*gamma[i]*((B/2) - (A*d/4)),i)\n",
    "\n",
    "        # apply the mixer\n",
    "        qc.rx(2*beta[i],i)\n",
    "\n",
    "    qc.barrier()\n",
    "\n",
=======
    "            if int(j) > int(i):\n",
    "                qc.cx(int(i),int(j))\n",
    "                # i think the str() is supposed to be int(), right?\n",
    "                qc.rz(2*gamma[int(i)]*A/4,int(j))\n",
    "                qc.cx(int(i),int(j))\n",
    "\n",
    "        # same thing, str() is supposed to int(), right?\n",
    "        qc.rz(2*gamma[int(i)]*((B/2) - (A*d/4)),int(i))\n",
    "\n",
    "        # apply the mixer\n",
    "        qc.rx(2*beta[int(i)], i)\n",
>>>>>>> 944aa683a01d7e8a22a979bcfc10c1f3057c3c16
    "\n",
    "    ''' \n",
    "    part 3\n",
    "    '''\n",
    "    # measure all qubits\n",
    "    qc.measure(qr,cr)\n",
    "\n",
    "\n",
    "    ''' \n",
    "    get probability to return\n",
    "    '''\n",
    "    \n",
    "    aer_sim = Aer.get_backend('aer_simulator')\n",
    "    t_qc = transpile(qc, aer_sim)\n",
    "    qobj = assemble(t_qc)\n",
    "    results = aer_sim.run(qobj, shots=shots).result()\n",
    "    counts = results.get_counts()\n",
    "    counts_mod = {}\n",
    "    for _key in counts.keys():\n",
    "        counts_mod[_key[::-1]] = counts[_key]/shots\n",
    "\n",
    "\n",
    "    return collections.OrderedDict(sorted(counts_mod.items()))"
   ]
  },
  {
   "cell_type": "code",
   "execution_count": 46,
   "metadata": {},
   "outputs": [
    {
     "name": "stdout",
     "output_type": "stream",
     "text": [
      "OrderedDict([('00000', 0.080078125), ('00001', 0.05078125), ('00010', 0.052734375), ('00011', 0.0009765625), ('00100', 0.0400390625), ('00101', 0.0302734375), ('00110', 0.001953125), ('00111', 0.0087890625), ('01000', 0.044921875), ('01001', 0.001953125), ('01010', 0.017578125), ('01011', 0.0146484375), ('01101', 0.01171875), ('01110', 0.0146484375), ('01111', 0.126953125), ('10000', 0.0673828125), ('10001', 0.001953125), ('10010', 0.001953125), ('10011', 0.0146484375), ('10100', 0.00390625), ('10101', 0.1064453125), ('10110', 0.015625), ('10111', 0.0234375), ('11000', 0.0048828125), ('11001', 0.01171875), ('11010', 0.1279296875), ('11011', 0.0341796875), ('11100', 0.01171875), ('11101', 0.0400390625), ('11110', 0.03515625), ('11111', 0.0009765625)])\n"
     ]
    },
    {
     "data": {
      "text/plain": [
       "<BarContainer object of 31 artists>"
      ]
     },
     "execution_count": 46,
     "metadata": {},
     "output_type": "execute_result"
    },
    {
     "data": {
      "image/png": "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",
      "text/plain": [
       "<Figure size 2500x600 with 1 Axes>"
      ]
     },
     "metadata": {},
     "output_type": "display_data"
    }
   ],
   "source": [
    "graph = {0:[1,2,3,4] , 1:[0,3], 2:[0,4], 3:[0,1], 4: [0,2]}\n",
    "\n",
    "val = quantum_circuit(graph, [3*np.pi/4,3*np.pi/4,3*np.pi/4,3*np.pi/4,3*np.pi/4], [3*np.pi/4,3*np.pi/4,3*np.pi/4,3*np.pi/4,3*np.pi/4])\n",
    "\n",
    "print(val)\n",
    "fig, splt = plt.subplots(figsize=(25,6))\n",
    "splt.bar(val.keys(), val.values(), color='g')\n"
   ]
  },
  {
   "cell_type": "code",
<<<<<<< HEAD
   "execution_count": null,
   "metadata": {},
   "outputs": [],
   "source": []
=======
   "execution_count": 77,
   "metadata": {},
   "outputs": [],
   "source": [
    "class graph:\n",
    "    def __init__(self, _graph=None):\n",
    "        if _graph is None:\n",
    "            _graph = {}\n",
    "        self._graph = _graph\n",
    "      \n",
    "    def getVertices(self):\n",
    "        return list(self._graph.keys())\n",
    "    \n",
    "    def printVertices(self):\n",
    "        print(self.getVertices())\n",
    "    \n",
    "    def findEdges(self):\n",
    "        edgename = []\n",
    "        for vrtx in self._graph:\n",
    "            for nxtvrtx in self._graph[vrtx]:\n",
    "                if {nxtvrtx, vrtx} not in edgename:\n",
    "                    edgename.append({vrtx, nxtvrtx})\n",
    "        return edgename\n",
    "    \n",
    "    def printEdges(self):\n",
    "        print(self.findEdges())\n",
    "        \n",
    "    def getGraph(self):\n",
    "        return self._graph"
   ]
  },
  {
   "cell_type": "code",
   "execution_count": 78,
   "metadata": {},
   "outputs": [],
   "source": [
    "graph_elements = { \n",
    "   0 : [1, 2],\n",
    "   1 : [0, 3],\n",
    "   2 : [0, 3],\n",
    "   3 : [4],\n",
    "   4 : [3]\n",
    "}\n",
    "g = graph(graph_elements)"
   ]
  },
  {
   "cell_type": "code",
   "execution_count": 79,
   "metadata": {},
   "outputs": [
    {
     "name": "stdout",
     "output_type": "stream",
     "text": [
      "[{0, 1}, {0, 2}, {1, 3}, {2, 3}, {3, 4}]\n",
      "[0, 1, 2, 3, 4]\n"
     ]
    }
   ],
   "source": [
    "g.printEdges()\n",
    "g.printVertices()"
   ]
  },
  {
   "cell_type": "code",
   "execution_count": 80,
   "metadata": {},
   "outputs": [
    {
     "name": "stdout",
     "output_type": "stream",
     "text": [
      "[1, 1, 1, 1, 1]\n",
      "[1, 1, 1, 1, 1]\n"
     ]
    }
   ],
   "source": [
    "vertCount = len(g.getGraph())\n",
    "beta = [1 for i in range(vertCount)]\n",
    "gamma = [1 for i in range(vertCount)]\n",
    "print(beta)\n",
    "print(gamma)"
   ]
  },
  {
   "cell_type": "code",
   "execution_count": 81,
   "metadata": {},
   "outputs": [
    {
     "ename": "TypeError",
     "evalue": "rx() missing 1 required positional argument: 'qubit'",
     "output_type": "error",
     "traceback": [
      "\u001b[1;31m---------------------------------------------------------------------------\u001b[0m",
      "\u001b[1;31mTypeError\u001b[0m                                 Traceback (most recent call last)",
      "\u001b[1;32m<ipython-input-81-426464c6dedc>\u001b[0m in \u001b[0;36m<module>\u001b[1;34m\u001b[0m\n\u001b[1;32m----> 1\u001b[1;33m \u001b[0mcirc\u001b[0m \u001b[1;33m=\u001b[0m \u001b[0mquantum_circuit\u001b[0m\u001b[1;33m(\u001b[0m\u001b[0mg\u001b[0m\u001b[1;33m.\u001b[0m\u001b[0mgetGraph\u001b[0m\u001b[1;33m(\u001b[0m\u001b[1;33m)\u001b[0m\u001b[1;33m,\u001b[0m \u001b[0mbeta\u001b[0m\u001b[1;33m,\u001b[0m \u001b[0mgamma\u001b[0m\u001b[1;33m)\u001b[0m\u001b[1;33m\u001b[0m\u001b[1;33m\u001b[0m\u001b[0m\n\u001b[0m",
      "\u001b[1;32m<ipython-input-76-17102e31aeb7>\u001b[0m in \u001b[0;36mquantum_circuit\u001b[1;34m(graph, beta, gamma)\u001b[0m\n\u001b[0;32m     51\u001b[0m \u001b[1;33m\u001b[0m\u001b[0m\n\u001b[0;32m     52\u001b[0m         \u001b[1;31m# apply the mixer\u001b[0m\u001b[1;33m\u001b[0m\u001b[1;33m\u001b[0m\u001b[1;33m\u001b[0m\u001b[0m\n\u001b[1;32m---> 53\u001b[1;33m         \u001b[0mqc\u001b[0m\u001b[1;33m.\u001b[0m\u001b[0mrx\u001b[0m\u001b[1;33m(\u001b[0m\u001b[1;36m2\u001b[0m\u001b[1;33m*\u001b[0m\u001b[0mbeta\u001b[0m\u001b[1;33m[\u001b[0m\u001b[0mint\u001b[0m\u001b[1;33m(\u001b[0m\u001b[0mi\u001b[0m\u001b[1;33m)\u001b[0m\u001b[1;33m]\u001b[0m\u001b[1;33m)\u001b[0m\u001b[1;33m\u001b[0m\u001b[1;33m\u001b[0m\u001b[0m\n\u001b[0m\u001b[0;32m     54\u001b[0m \u001b[1;33m\u001b[0m\u001b[0m\n\u001b[0;32m     55\u001b[0m     ''' \n",
      "\u001b[1;31mTypeError\u001b[0m: rx() missing 1 required positional argument: 'qubit'"
     ]
    }
   ],
   "source": [
    "circ = quantum_circuit(g.getGraph(), beta, gamma)"
   ]
>>>>>>> 944aa683a01d7e8a22a979bcfc10c1f3057c3c16
  }
 ],
 "metadata": {
  "kernelspec": {
   "display_name": "Python 3.8.3 ('base')",
   "language": "python",
   "name": "python3"
  },
  "language_info": {
   "codemirror_mode": {
    "name": "ipython",
    "version": 3
   },
   "file_extension": ".py",
   "mimetype": "text/x-python",
   "name": "python",
   "nbconvert_exporter": "python",
   "pygments_lexer": "ipython3",
   "version": "3.8.3"
  },
  "orig_nbformat": 4,
  "vscode": {
   "interpreter": {
    "hash": "1870f1194fb5b3d43b6d32e845741389586dbe9c4e1e45e17e0f6602cfe22778"
   }
  }
 },
 "nbformat": 4,
 "nbformat_minor": 2
}
