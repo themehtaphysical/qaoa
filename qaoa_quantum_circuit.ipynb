{
 "cells": [
  {
   "cell_type": "markdown",
   "metadata": {},
   "source": [
    "# QAOA in Qiskit"
   ]
  },
  {
   "cell_type": "code",
   "execution_count": 1,
   "metadata": {},
   "outputs": [],
   "source": [
    "import numpy as np\n",
    "from qiskit import *"
   ]
  },
  {
   "cell_type": "code",
   "execution_count": null,
   "metadata": {},
   "outputs": [],
   "source": [
    "def quantum_circuit(graph:dict, beta:list, gamma:list):\n",
    "\n",
    "\n",
    "\n",
    "    # choose values of A & B here\n",
    "\n",
    "    '''\n",
    "    initialize the parameters here\n",
    "    '''\n",
    "    A = 1.5\n",
    "    B = 1\n",
    "    n = len(graph.keys())\n",
    "        \n",
    "    qr = QuantumRegister(n)\n",
    "    cr = ClassicalRegister(n)\n",
    "    qc = QuantumCircuit(qr,cr)\n",
    "\n",
    "    '''\n",
    "    part 1\n",
    "    '''\n",
    "    # apply the intial hadamard\n",
    "    for i in len(n):\n",
    "        qc.h(i)\n",
    "\n",
    "    '''\n",
    "    part 2\n",
    "    '''\n",
    "\n",
    "    for _node in graph.keys():\n",
    "\n",
    "        \n",
    "        _dimensionality = len(graph[_node])\n",
    "        d = _dimensionality\n",
    "        \n",
    "        i = int(_node)\n",
    "\n",
    "\n",
    "        for _connected_node in graph[_node]:\n",
    "            j = int(_connected_node)\n",
    "\n",
    "            # apply the separator\n",
    "            if int(j) > int(i):\n",
    "                qc.cx(int(i),int(j))\n",
    "                qc.rz(2*gamma[int(i)]*A/4,str(j))\n",
    "                qc.cx(int(i),int(j))\n",
    "\n",
    "        qc.rz(2*gamma[int(i)]*((B/2) - (A*d/4)),str(i))\n",
    "\n",
    "        # apply the mixer\n",
    "        qc.rx(2*beta[int(i), i])\n",
    "\n",
    "    ''' \n",
    "    part 3\n",
    "    '''\n",
    "    # measure all qubits\n",
    "    qc.measure(qr,cr)\n",
    "\n",
    "    return cr"
   ]
  }
 ],
 "metadata": {
  "kernelspec": {
   "display_name": "Python 3.9.13 ('base')",
   "language": "python",
   "name": "python3"
  },
  "language_info": {
   "name": "python",
   "version": "3.9.13"
  },
  "orig_nbformat": 4,
  "vscode": {
   "interpreter": {
    "hash": "358a77507ec11ddb660ac1d8d3eb0035d960f272c3eb24b4f5810b389e19700a"
   }
  }
 },
 "nbformat": 4,
 "nbformat_minor": 2
}
